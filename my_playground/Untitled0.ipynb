{
 "metadata": {
  "name": "",
  "signature": "sha256:5d47726a7d60bd7f7fa9fa43c2812e28f382cb78670f060f09a17663dad6ef68"
 },
 "nbformat": 3,
 "nbformat_minor": 0,
 "worksheets": [
  {
   "cells": [
    {
     "cell_type": "code",
     "collapsed": false,
     "input": [
      "import sklearn\n",
      "from sklearn import ensemble, datasets, cross_validation, metrics"
     ],
     "language": "python",
     "metadata": {},
     "outputs": [],
     "prompt_number": 7
    },
    {
     "cell_type": "code",
     "collapsed": false,
     "input": [
      "boston = datasets.load_boston()\n",
      "boston.data.shape"
     ],
     "language": "python",
     "metadata": {},
     "outputs": [
      {
       "metadata": {},
       "output_type": "pyout",
       "prompt_number": 8,
       "text": [
        "(506, 13)"
       ]
      }
     ],
     "prompt_number": 8
    },
    {
     "cell_type": "code",
     "collapsed": false,
     "input": [],
     "language": "python",
     "metadata": {},
     "outputs": [],
     "prompt_number": 8
    },
    {
     "cell_type": "code",
     "collapsed": false,
     "input": [
      "friedman1 = datasets.make_friedman1(n_samples=10000, n_features=20, noise=1.)\n",
      "friedman1\n",
      "friedman1[0].shape\n"
     ],
     "language": "python",
     "metadata": {},
     "outputs": [
      {
       "metadata": {},
       "output_type": "pyout",
       "prompt_number": 9,
       "text": [
        "(10000, 20)"
       ]
      }
     ],
     "prompt_number": 9
    },
    {
     "cell_type": "code",
     "collapsed": false,
     "input": [
      "X = friedman1[0]\n",
      "y = friedman1[1]\n",
      "X_train, X_valid, y_train, y_valid = cross_validation.train_test_split(X, y, train_size=0.7)"
     ],
     "language": "python",
     "metadata": {},
     "outputs": [],
     "prompt_number": 10
    },
    {
     "cell_type": "code",
     "collapsed": false,
     "input": [
      "X_train.shape"
     ],
     "language": "python",
     "metadata": {},
     "outputs": [
      {
       "metadata": {},
       "output_type": "pyout",
       "prompt_number": 11,
       "text": [
        "(7000, 20)"
       ]
      }
     ],
     "prompt_number": 11
    },
    {
     "cell_type": "code",
     "collapsed": false,
     "input": [
      "def regression_report(y_true, y_pred):\n",
      "    print '\\t explained variance:', metrics.regression.explained_variance_score(y_true, y_pred)\n",
      "    "
     ],
     "language": "python",
     "metadata": {},
     "outputs": [],
     "prompt_number": 12
    },
    {
     "cell_type": "code",
     "collapsed": false,
     "input": [
      "model_gbc = ensemble.GradientBoostingRegressor(alpha=0.9, init=None, learning_rate=0.1, loss='ls',\n",
      "             max_depth=6, \n",
      "             max_features=None, \n",
      "             #max_leaf_nodes=15,\n",
      "             min_samples_leaf=20, min_samples_split=40,\n",
      "             min_weight_fraction_leaf=0.0, n_estimators=70,\n",
      "             random_state=None, subsample=0.8, tree_params_producer=None,\n",
      "             verbose=1, warm_start=False)\n",
      "\n",
      "model_gbc.fit(X_train, y_train)\n",
      "\n",
      "\n",
      "print ' '\n",
      "print 'Train:'\n",
      "regression_report(y_train, model_gbc.predict(X_train))\n",
      "print ' '\n",
      "print 'Test:'\n",
      "regression_report(y_valid, model_gbc.predict(X_valid))"
     ],
     "language": "python",
     "metadata": {},
     "outputs": [
      {
       "output_type": "stream",
       "stream": "stdout",
       "text": [
        "      Iter       Train Loss      OOB Improve   Remaining Time \n",
        "         1          21.1862           3.4779            4.98s"
       ]
      },
      {
       "output_type": "stream",
       "stream": "stdout",
       "text": [
        "\n",
        "         2          17.9907           3.0230            4.52s"
       ]
      },
      {
       "output_type": "stream",
       "stream": "stdout",
       "text": [
        "\n",
        "         3          15.6662           2.4718            4.52s"
       ]
      },
      {
       "output_type": "stream",
       "stream": "stdout",
       "text": [
        "\n",
        "         4          13.5447           1.9948            4.38s"
       ]
      },
      {
       "output_type": "stream",
       "stream": "stdout",
       "text": [
        "\n",
        "         5          11.9471           1.5724            4.30s"
       ]
      },
      {
       "output_type": "stream",
       "stream": "stdout",
       "text": [
        "\n",
        "         6          10.3941           1.3790            4.19s"
       ]
      },
      {
       "output_type": "stream",
       "stream": "stdout",
       "text": [
        "\n",
        "         7           9.2391           1.1929            4.08s"
       ]
      },
      {
       "output_type": "stream",
       "stream": "stdout",
       "text": [
        "\n",
        "         8           8.1028           0.9529            4.01s"
       ]
      },
      {
       "output_type": "stream",
       "stream": "stdout",
       "text": [
        "\n",
        "         9           7.2339           0.7755            3.93s"
       ]
      },
      {
       "output_type": "stream",
       "stream": "stdout",
       "text": [
        "\n",
        "        10           6.4155           0.7200            3.84s"
       ]
      },
      {
       "output_type": "stream",
       "stream": "stdout",
       "text": [
        "\n",
        "        20           2.6969           0.1517            3.15s"
       ]
      },
      {
       "output_type": "stream",
       "stream": "stdout",
       "text": [
        "\n",
        "        30           1.5622           0.0398            2.46s"
       ]
      },
      {
       "output_type": "stream",
       "stream": "stdout",
       "text": [
        "\n",
        "        40           1.1068           0.0085            1.84s"
       ]
      },
      {
       "output_type": "stream",
       "stream": "stdout",
       "text": [
        "\n",
        "        50           0.9194           0.0007            1.21s"
       ]
      },
      {
       "output_type": "stream",
       "stream": "stdout",
       "text": [
        "\n",
        "        60           0.8084           0.0008            0.60s"
       ]
      },
      {
       "output_type": "stream",
       "stream": "stdout",
       "text": [
        "\n",
        "        70           0.7397          -0.0002            0.00s"
       ]
      },
      {
       "output_type": "stream",
       "stream": "stdout",
       "text": [
        "\n",
        " \n",
        "Train:\n",
        "\t explained variance: 0.970261473808\n",
        " \n",
        "Test:\n",
        "\t explained variance: 0.944339772202\n"
       ]
      }
     ],
     "prompt_number": 27
    },
    {
     "cell_type": "code",
     "collapsed": false,
     "input": [
      "def linear_variable(vfrom, vto, N):\n",
      "    return lambda i: int(i * 1. / N * (vto - vfrom) + vfrom)\n",
      "\n",
      "\n",
      "def tree_params_producer_variable_depth(depth_from, depth_to, n_estimators):\n",
      "    variable_depth_foo = linear_variable(depth_from, depth_to, n_estimators)\n",
      "    return lambda stage: {\n",
      "            'max_depth': variable_depth_foo(stage),\n",
      "            'min_samples_split': 2,\n",
      "            'min_samples_leaf': 1,\n",
      "            'min_weight_fraction_leaf': 0.0,                \n",
      "            'max_features': None,\n",
      "            'max_leaf_nodes': None}\n",
      "\n",
      "\n",
      "model_gbc = ensemble.GradientBoostingRegressor(alpha=0.9, init=None, learning_rate=0.1, loss='ls',\n",
      "             #max_depth=8, \n",
      "             #max_features=None, \n",
      "             #max_leaf_nodes=15,\n",
      "             #min_samples_leaf=20, min_samples_split=40,\n",
      "             #min_weight_fraction_leaf=0.0, \n",
      "             n_estimators=80,\n",
      "             random_state=None, \n",
      "             subsample=0.8, \n",
      "             tree_params_producer=tree_params_producer_variable_depth(1, 10, 80),\n",
      "             verbose=1, warm_start=False)\n",
      "\n",
      "model_gbc.fit(X_train, y_train)\n",
      "\n",
      "\n",
      "print ' '\n",
      "print 'Train:'\n",
      "regression_report(y_train, model_gbc.predict(X_train))\n",
      "print ' '\n",
      "print 'Test:'\n",
      "regression_report(y_valid, model_gbc.predict(X_valid))"
     ],
     "language": "python",
     "metadata": {},
     "outputs": [
      {
       "output_type": "stream",
       "stream": "stdout",
       "text": [
        "      Iter       Train Loss      OOB Improve   Remaining Time \n",
        "         1          23.8465           1.2325            1.66s\n",
        "         2          22.4922           1.0192            1.18s\n",
        "         3          21.9183           0.8435            1.00s\n",
        "         4          21.1896           0.6217            0.92s\n",
        "         5          19.9862           0.7378            0.85s"
       ]
      },
      {
       "output_type": "stream",
       "stream": "stdout",
       "text": [
        "\n",
        "         6          19.5505           0.6971            0.83s\n",
        "         7          19.1929           0.6270            0.81s\n",
        "         8          18.5405           0.5842            0.78s\n",
        "         9          17.8962           0.5519            0.77s\n",
        "        10          17.1822           0.9675            0.82s"
       ]
      },
      {
       "output_type": "stream",
       "stream": "stdout",
       "text": [
        "\n",
        "        20          10.0114           0.5996            0.98s"
       ]
      },
      {
       "output_type": "stream",
       "stream": "stdout",
       "text": [
        "\n",
        "        30           5.4769           0.3543            1.06s"
       ]
      },
      {
       "output_type": "stream",
       "stream": "stdout",
       "text": [
        "\n",
        "        40           3.1294           0.1355            1.05s"
       ]
      },
      {
       "output_type": "stream",
       "stream": "stdout",
       "text": [
        "\n",
        "        50           1.8813           0.0599            0.96s"
       ]
      },
      {
       "output_type": "stream",
       "stream": "stdout",
       "text": [
        "\n",
        "        60           1.2367           0.0318            0.78s"
       ]
      },
      {
       "output_type": "stream",
       "stream": "stdout",
       "text": [
        "\n",
        "        70           0.8239           0.0190            0.47s"
       ]
      },
      {
       "output_type": "stream",
       "stream": "stdout",
       "text": [
        "\n",
        "        80           0.5909           0.0013            0.00s"
       ]
      },
      {
       "output_type": "stream",
       "stream": "stdout",
       "text": [
        "\n",
        " \n",
        "Train:\n",
        "\t explained variance: 0.976398815713\n",
        " \n",
        "Test:\n",
        "\t explained variance: 0.946019133501\n"
       ]
      }
     ],
     "prompt_number": 28
    },
    {
     "cell_type": "code",
     "collapsed": false,
     "input": [],
     "language": "python",
     "metadata": {},
     "outputs": [],
     "prompt_number": 8
    },
    {
     "cell_type": "code",
     "collapsed": false,
     "input": [
      "linear_variable(1, 8, 70)(30)"
     ],
     "language": "python",
     "metadata": {},
     "outputs": [
      {
       "metadata": {},
       "output_type": "pyout",
       "prompt_number": 18,
       "text": [
        "-2"
       ]
      }
     ],
     "prompt_number": 18
    },
    {
     "cell_type": "code",
     "collapsed": false,
     "input": [],
     "language": "python",
     "metadata": {},
     "outputs": []
    }
   ],
   "metadata": {}
  }
 ]
}